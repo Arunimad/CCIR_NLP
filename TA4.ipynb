{
  "nbformat": 4,
  "nbformat_minor": 0,
  "metadata": {
    "colab": {
      "provenance": [],
      "authorship_tag": "ABX9TyOLDHC6i6/rF6fycyP/GtGb",
      "include_colab_link": true
    },
    "kernelspec": {
      "name": "python3",
      "display_name": "Python 3"
    },
    "language_info": {
      "name": "python"
    }
  },
  "cells": [
    {
      "cell_type": "markdown",
      "metadata": {
        "id": "view-in-github",
        "colab_type": "text"
      },
      "source": [
        "<a href=\"https://colab.research.google.com/github/Arunimad/CCIR_NLP/blob/main/TA4.ipynb\" target=\"_parent\"><img src=\"https://colab.research.google.com/assets/colab-badge.svg\" alt=\"Open In Colab\"/></a>"
      ]
    },
    {
      "cell_type": "markdown",
      "source": [
        "**Lemmatization**\n",
        "\n",
        "In contrast to stemming, lemmatization is a lot more powerful. It looks beyond word reduction and considers a language’s full vocabulary to apply a morphological analysis to words, aiming to remove inflectional endings only and to return the base or dictionary form of a word, which is known as the lemma.\n",
        "\n",
        "   meeting    --->   meet                (core-word extraction)\n",
        "\n",
        "   was        --->    be                 (tense conversion to present tense)\n",
        "\n",
        "   mice       --->   mouse               (plural to singular)\n"
      ],
      "metadata": {
        "id": "XB9KzlpOlDMD"
      }
    },
    {
      "cell_type": "markdown",
      "source": [
        "Various Approaches to Lemmatization: \n",
        "\n",
        "(Source. geeks for geeks)"
      ],
      "metadata": {
        "id": "rFdK1IexlO9-"
      }
    },
    {
      "cell_type": "markdown",
      "source": [
        "1. Wordnet Lemmatizer  \n",
        "\n",
        "Wordnet is a publicly available lexical database of over 200 languages that provides semantic relationships between its words. It is one of the earliest and most commonly used lemmatizer technique.  \n",
        "\n",
        "* It is present in the nltk library in python.\n",
        "* Wordnet links words into semantic relations. ( eg. synonyms )\n",
        "*It groups synonyms in the form of synsets.\n",
        "\n",
        "synsets : a group of data elements that are semantically equivalent. "
      ],
      "metadata": {
        "id": "7CUe-eSWlXFk"
      }
    },
    {
      "cell_type": "code",
      "source": [
        "pip list"
      ],
      "metadata": {
        "id": "VagJie-HkO5o"
      },
      "execution_count": null,
      "outputs": []
    },
    {
      "cell_type": "code",
      "execution_count": 2,
      "metadata": {
        "colab": {
          "base_uri": "https://localhost:8080/"
        },
        "id": "b-xp44s3j2u9",
        "outputId": "a5541bc7-6167-4186-adc2-8c51043ba522"
      },
      "outputs": [
        {
          "output_type": "stream",
          "name": "stderr",
          "text": [
            "[nltk_data] Downloading package wordnet to /root/nltk_data...\n"
          ]
        },
        {
          "output_type": "stream",
          "name": "stdout",
          "text": [
            "kites ---> kite\n",
            "babies ---> baby\n",
            "dogs ---> dog\n",
            "flying ---> flying\n",
            "smiling ---> smiling\n",
            "driving ---> driving\n",
            "died ---> died\n",
            "tried ---> tried\n",
            "feet ---> foot\n"
          ]
        }
      ],
      "source": [
        "import nltk\n",
        "nltk.download('wordnet')\n",
        "from nltk.stem import WordNetLemmatizer\n",
        " \n",
        "# Create WordNetLemmatizer object\n",
        "wnl = WordNetLemmatizer()\n",
        "\n",
        " \n",
        "# single word lemmatization examples\n",
        "list1 = ['kites', 'babies', 'dogs', 'flying', 'smiling',\n",
        "         'driving', 'died', 'tried', 'feet']\n",
        "for words in list1:\n",
        "    print(words + \" ---> \" + wnl.lemmatize(words))"
      ]
    },
    {
      "cell_type": "code",
      "source": [
        "nltk.download('punkt')\n",
        "# sentence lemmatization examples\n",
        "string = 'the cat is sitting with the bats on the striped mat under many flying geese'\n",
        " \n",
        "# Converting String into tokens\n",
        "list2 = nltk.word_tokenize(string)\n",
        "print(list2)\n",
        "\n",
        " \n",
        "lemmatized_string = ' '.join([wnl.lemmatize(words) for words in list2])\n",
        " \n",
        "print(lemmatized_string)  "
      ],
      "metadata": {
        "colab": {
          "base_uri": "https://localhost:8080/"
        },
        "id": "1IbUVmoNlrzq",
        "outputId": "07200025-fe32-4c44-d8e4-64fd0f4b2a86"
      },
      "execution_count": 3,
      "outputs": [
        {
          "output_type": "stream",
          "name": "stderr",
          "text": [
            "[nltk_data] Downloading package punkt to /root/nltk_data...\n",
            "[nltk_data]   Unzipping tokenizers/punkt.zip.\n"
          ]
        },
        {
          "output_type": "stream",
          "name": "stdout",
          "text": [
            "['the', 'cat', 'is', 'sitting', 'with', 'the', 'bats', 'on', 'the', 'striped', 'mat', 'under', 'many', 'flying', 'geese']\n",
            "the cat is sitting with the bat on the striped mat under many flying goose\n"
          ]
        }
      ]
    },
    {
      "cell_type": "markdown",
      "source": [
        "2. Wordnet Lemmatizer (with POS tag) \n",
        "\n",
        "In the above approach, we observed that Wordnet results were not up to the mark. Words like ‘sitting’, ‘flying’ etc remained the same after lemmatization. This is because these words are treated as a noun in the given sentence rather than a verb. To overcome come this, we use POS (Part of Speech) tags. \n",
        "We add a tag with a particular word defining its type (verb, noun, adjective etc). \n",
        "\n",
        "For Example, \n",
        "\n",
        "* Word      +    Type (POS tag)     —>     Lemmatized Word\n",
        "* driving    +    verb      ‘v’            —>     drive\n",
        "* dogs       +    noun      ‘n’           —>     dog"
      ],
      "metadata": {
        "id": "J5o8d0BHmRyr"
      }
    },
    {
      "cell_type": "code",
      "source": [
        "# WORDNET LEMMATIZER (with appropriate pos tags)\n",
        " \n",
        "import nltk\n",
        "from nltk.stem import WordNetLemmatizer\n",
        "nltk.download('averaged_perceptron_tagger')\n",
        "from nltk.corpus import wordnet\n",
        " \n",
        "lemmatizer = WordNetLemmatizer()\n",
        " \n",
        "# Define function to lemmatize each word with its POS tag\n",
        " \n",
        "# POS_TAGGER_FUNCTION : TYPE 1\n",
        "def pos_tagger(nltk_tag):\n",
        "    if nltk_tag.startswith('J'):\n",
        "        return wordnet.ADJ\n",
        "    elif nltk_tag.startswith('V'):\n",
        "        return wordnet.VERB\n",
        "    elif nltk_tag.startswith('N'):\n",
        "        return wordnet.NOUN\n",
        "    elif nltk_tag.startswith('R'):\n",
        "        return wordnet.ADV\n",
        "    else:         \n",
        "        return None\n",
        " \n",
        "sentence = 'the cat is sitting with the bats on the striped mat under many badly flying geese'\n",
        " \n",
        "# tokenize the sentence and find the POS tag for each token\n",
        "pos_tagged = nltk.pos_tag(nltk.word_tokenize(sentence)) \n",
        " \n",
        "print(pos_tagged)\n",
        "\n",
        " \n",
        "# As you may have noticed, the above pos tags are a little confusing.\n",
        " \n",
        "# we use our own pos_tagger function to make things simpler to understand.\n",
        "wordnet_tagged = list(map(lambda x: (x[0], pos_tagger(x[1])), pos_tagged))\n",
        "print(wordnet_tagged)\n",
        "\n",
        " \n",
        "lemmatized_sentence = []\n",
        "for word, tag in wordnet_tagged:\n",
        "    if tag is None:\n",
        "        # if there is no available tag, append the token as is\n",
        "        lemmatized_sentence.append(word)\n",
        "    else:       \n",
        "        # else use the tag to lemmatize the token\n",
        "        lemmatized_sentence.append(lemmatizer.lemmatize(word, tag))\n",
        "lemmatized_sentence = \" \".join(lemmatized_sentence)\n",
        " \n",
        "print(lemmatized_sentence)"
      ],
      "metadata": {
        "colab": {
          "base_uri": "https://localhost:8080/"
        },
        "id": "dXb9f8D5mYV6",
        "outputId": "f0158c3f-2173-4a5b-b897-93d2e49e9880"
      },
      "execution_count": 4,
      "outputs": [
        {
          "output_type": "stream",
          "name": "stderr",
          "text": [
            "[nltk_data] Downloading package averaged_perceptron_tagger to\n",
            "[nltk_data]     /root/nltk_data...\n",
            "[nltk_data]   Unzipping taggers/averaged_perceptron_tagger.zip.\n"
          ]
        },
        {
          "output_type": "stream",
          "name": "stdout",
          "text": [
            "[('the', 'DT'), ('cat', 'NN'), ('is', 'VBZ'), ('sitting', 'VBG'), ('with', 'IN'), ('the', 'DT'), ('bats', 'NNS'), ('on', 'IN'), ('the', 'DT'), ('striped', 'JJ'), ('mat', 'NN'), ('under', 'IN'), ('many', 'JJ'), ('badly', 'RB'), ('flying', 'VBG'), ('geese', 'JJ')]\n",
            "[('the', None), ('cat', 'n'), ('is', 'v'), ('sitting', 'v'), ('with', None), ('the', None), ('bats', 'n'), ('on', None), ('the', None), ('striped', 'a'), ('mat', 'n'), ('under', None), ('many', 'a'), ('badly', 'r'), ('flying', 'v'), ('geese', 'a')]\n",
            "the cat be sit with the bat on the striped mat under many badly fly geese\n"
          ]
        }
      ]
    },
    {
      "cell_type": "markdown",
      "source": [
        "3. TextBlob \n",
        "\n",
        "TextBlob is a python library used for processing textual data. It provides a simple API to access its methods and perform basic NLP tasks."
      ],
      "metadata": {
        "id": "JSb-0fYFmh9C"
      }
    },
    {
      "cell_type": "code",
      "source": [
        "pip install textblob"
      ],
      "metadata": {
        "id": "iig6KhLBmkXZ"
      },
      "execution_count": null,
      "outputs": []
    },
    {
      "cell_type": "code",
      "source": [
        "from textblob import TextBlob, Word\n",
        " \n",
        "my_word = 'cats'\n",
        " \n",
        "# create a Word object\n",
        "w = Word(my_word)\n",
        " \n",
        "print(w.lemmatize())\n",
        " \n",
        "sentence = 'the bats saw the cats with stripes hanging upside down by their feet.'\n",
        " \n",
        "s = TextBlob(sentence)\n",
        "lemmatized_sentence = \" \".join([w.lemmatize() for w in s.words])\n",
        " \n",
        "print(lemmatized_sentence)"
      ],
      "metadata": {
        "colab": {
          "base_uri": "https://localhost:8080/"
        },
        "id": "oveQfCTvmhlG",
        "outputId": "fde868d0-d815-4941-f95c-625da6c44097"
      },
      "execution_count": 6,
      "outputs": [
        {
          "output_type": "stream",
          "name": "stdout",
          "text": [
            "cat\n",
            "the bat saw the cat with stripe hanging upside down by their foot\n"
          ]
        }
      ]
    },
    {
      "cell_type": "markdown",
      "source": [
        "4. TextBlob (with POS tag) \n",
        "\n",
        "Same as in Wordnet approach without using appropriate POS tags, we observe the same limitations in this approach as well. So, we use one of the more powerful aspects of the TextBlob module the ‘Part of Speech’ tagging to overcome this problem."
      ],
      "metadata": {
        "id": "qxxgEOhemxjT"
      }
    },
    {
      "cell_type": "code",
      "source": [
        "from textblob import TextBlob\n",
        " \n",
        "# Define function to lemmatize each word with its POS tag\n",
        " \n",
        "# POS_TAGGER_FUNCTION : TYPE 2\n",
        "def pos_tagger(sentence):\n",
        "    sent = TextBlob(sentence)\n",
        "    tag_dict = {\"J\": 'a', \"N\": 'n', \"V\": 'v', \"R\": 'r'}\n",
        "    words_tags = [(w, tag_dict.get(pos[0], 'n')) for w, pos in sent.tags]   \n",
        "    lemma_list = [wd.lemmatize(tag) for wd, tag in words_tags]\n",
        "    return lemma_list\n",
        " \n",
        "# Lemmatize\n",
        "sentence = \"the bats saw the cats with stripes hanging upside down by their feet\"\n",
        "lemma_list = pos_tagger(sentence)\n",
        "lemmatized_sentence = \" \".join(lemma_list)\n",
        "print(lemmatized_sentence)\n",
        "\n"
      ],
      "metadata": {
        "colab": {
          "base_uri": "https://localhost:8080/"
        },
        "id": "99iPyt55m9lr",
        "outputId": "b87ba641-c847-41ec-c18d-4d1496cd639b"
      },
      "execution_count": 7,
      "outputs": [
        {
          "output_type": "stream",
          "name": "stdout",
          "text": [
            "the bat saw the cat with stripe hang upside down by their foot\n"
          ]
        }
      ]
    },
    {
      "cell_type": "markdown",
      "source": [
        "5. spaCy \n",
        "\n",
        "spaCy is an open-source python library that parses and “understands” large volumes of text. Separate models are available that cater to specific languages (English, French, German, etc.). "
      ],
      "metadata": {
        "id": "7jJwJ9y4nk_L"
      }
    },
    {
      "cell_type": "code",
      "source": [
        "pip install spacy\n"
      ],
      "metadata": {
        "id": "YBhWP6FGn0Z5",
        "colab": {
          "base_uri": "https://localhost:8080/"
        },
        "outputId": "012035db-da0c-452e-8e4c-778a365e991f"
      },
      "execution_count": 8,
      "outputs": [
        {
          "output_type": "stream",
          "name": "stdout",
          "text": [
            "Looking in indexes: https://pypi.org/simple, https://us-python.pkg.dev/colab-wheels/public/simple/\n",
            "Requirement already satisfied: spacy in /usr/local/lib/python3.10/dist-packages (3.5.2)\n",
            "Requirement already satisfied: spacy-legacy<3.1.0,>=3.0.11 in /usr/local/lib/python3.10/dist-packages (from spacy) (3.0.12)\n",
            "Requirement already satisfied: spacy-loggers<2.0.0,>=1.0.0 in /usr/local/lib/python3.10/dist-packages (from spacy) (1.0.4)\n",
            "Requirement already satisfied: murmurhash<1.1.0,>=0.28.0 in /usr/local/lib/python3.10/dist-packages (from spacy) (1.0.9)\n",
            "Requirement already satisfied: cymem<2.1.0,>=2.0.2 in /usr/local/lib/python3.10/dist-packages (from spacy) (2.0.7)\n",
            "Requirement already satisfied: preshed<3.1.0,>=3.0.2 in /usr/local/lib/python3.10/dist-packages (from spacy) (3.0.8)\n",
            "Requirement already satisfied: thinc<8.2.0,>=8.1.8 in /usr/local/lib/python3.10/dist-packages (from spacy) (8.1.9)\n",
            "Requirement already satisfied: wasabi<1.2.0,>=0.9.1 in /usr/local/lib/python3.10/dist-packages (from spacy) (1.1.1)\n",
            "Requirement already satisfied: srsly<3.0.0,>=2.4.3 in /usr/local/lib/python3.10/dist-packages (from spacy) (2.4.6)\n",
            "Requirement already satisfied: catalogue<2.1.0,>=2.0.6 in /usr/local/lib/python3.10/dist-packages (from spacy) (2.0.8)\n",
            "Requirement already satisfied: typer<0.8.0,>=0.3.0 in /usr/local/lib/python3.10/dist-packages (from spacy) (0.7.0)\n",
            "Requirement already satisfied: pathy>=0.10.0 in /usr/local/lib/python3.10/dist-packages (from spacy) (0.10.1)\n",
            "Requirement already satisfied: smart-open<7.0.0,>=5.2.1 in /usr/local/lib/python3.10/dist-packages (from spacy) (6.3.0)\n",
            "Requirement already satisfied: tqdm<5.0.0,>=4.38.0 in /usr/local/lib/python3.10/dist-packages (from spacy) (4.65.0)\n",
            "Requirement already satisfied: numpy>=1.15.0 in /usr/local/lib/python3.10/dist-packages (from spacy) (1.22.4)\n",
            "Requirement already satisfied: requests<3.0.0,>=2.13.0 in /usr/local/lib/python3.10/dist-packages (from spacy) (2.27.1)\n",
            "Requirement already satisfied: pydantic!=1.8,!=1.8.1,<1.11.0,>=1.7.4 in /usr/local/lib/python3.10/dist-packages (from spacy) (1.10.7)\n",
            "Requirement already satisfied: jinja2 in /usr/local/lib/python3.10/dist-packages (from spacy) (3.1.2)\n",
            "Requirement already satisfied: setuptools in /usr/local/lib/python3.10/dist-packages (from spacy) (67.7.2)\n",
            "Requirement already satisfied: packaging>=20.0 in /usr/local/lib/python3.10/dist-packages (from spacy) (23.1)\n",
            "Requirement already satisfied: langcodes<4.0.0,>=3.2.0 in /usr/local/lib/python3.10/dist-packages (from spacy) (3.3.0)\n",
            "Requirement already satisfied: typing-extensions>=4.2.0 in /usr/local/lib/python3.10/dist-packages (from pydantic!=1.8,!=1.8.1,<1.11.0,>=1.7.4->spacy) (4.5.0)\n",
            "Requirement already satisfied: urllib3<1.27,>=1.21.1 in /usr/local/lib/python3.10/dist-packages (from requests<3.0.0,>=2.13.0->spacy) (1.26.15)\n",
            "Requirement already satisfied: certifi>=2017.4.17 in /usr/local/lib/python3.10/dist-packages (from requests<3.0.0,>=2.13.0->spacy) (2022.12.7)\n",
            "Requirement already satisfied: charset-normalizer~=2.0.0 in /usr/local/lib/python3.10/dist-packages (from requests<3.0.0,>=2.13.0->spacy) (2.0.12)\n",
            "Requirement already satisfied: idna<4,>=2.5 in /usr/local/lib/python3.10/dist-packages (from requests<3.0.0,>=2.13.0->spacy) (3.4)\n",
            "Requirement already satisfied: blis<0.8.0,>=0.7.8 in /usr/local/lib/python3.10/dist-packages (from thinc<8.2.0,>=8.1.8->spacy) (0.7.9)\n",
            "Requirement already satisfied: confection<1.0.0,>=0.0.1 in /usr/local/lib/python3.10/dist-packages (from thinc<8.2.0,>=8.1.8->spacy) (0.0.4)\n",
            "Requirement already satisfied: click<9.0.0,>=7.1.1 in /usr/local/lib/python3.10/dist-packages (from typer<0.8.0,>=0.3.0->spacy) (8.1.3)\n",
            "Requirement already satisfied: MarkupSafe>=2.0 in /usr/local/lib/python3.10/dist-packages (from jinja2->spacy) (2.1.2)\n"
          ]
        }
      ]
    },
    {
      "cell_type": "code",
      "source": [
        "import spacy\n",
        "nlp = spacy.load('en_core_web_sm')\n",
        " \n",
        "# Create a Doc object\n",
        "doc = nlp('the bats saw the cats with best stripes hanging upside down by their feet')\n",
        " \n",
        "# Create list of tokens from given string\n",
        "tokens = []\n",
        "for token in doc:\n",
        "    tokens.append(token)\n",
        " \n",
        "print(tokens)\n",
        "\n",
        " \n",
        "lemmatized_sentence = \" \".join([token.lemma_ for token in doc])\n",
        " \n",
        "print(lemmatized_sentence)"
      ],
      "metadata": {
        "colab": {
          "base_uri": "https://localhost:8080/"
        },
        "id": "Xsk_6bQBoHCQ",
        "outputId": "9500713a-e00f-4fed-c271-e23cb4d4859f"
      },
      "execution_count": 10,
      "outputs": [
        {
          "output_type": "stream",
          "name": "stdout",
          "text": [
            "[the, bats, saw, the, cats, with, best, stripes, hanging, upside, down, by, their, feet]\n",
            "the bat see the cat with good stripe hang upside down by their foot\n"
          ]
        }
      ]
    },
    {
      "cell_type": "markdown",
      "source": [
        "In the above code, we observed that this approach was more powerful than our previous approaches as :  \n",
        "\n",
        "* Even Pro-nouns were detected. ( identified by -PRON-)\n",
        "* Even best was changed to good. "
      ],
      "metadata": {
        "id": "ANxMq6YDoTY8"
      }
    },
    {
      "cell_type": "markdown",
      "source": [
        "6. TreeTagger \n",
        "\n",
        "The TreeTagger is a tool for annotating text with part-of-speech and lemma information. The TreeTagger has been successfully used to tag over 25 languages and is adaptable to other languages if a manually tagged training corpus is available. \n",
        "\n",
        "\n",
        "![image.png](data:image/png;base64,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)"
      ],
      "metadata": {
        "id": "PkuF8k6qoXH_"
      }
    },
    {
      "cell_type": "code",
      "source": [
        "pip install treetaggerwrapper"
      ],
      "metadata": {
        "colab": {
          "base_uri": "https://localhost:8080/"
        },
        "id": "2B9AX-ZeojAE",
        "outputId": "283a8b0a-8691-4556-c038-ac8598c8d520"
      },
      "execution_count": 11,
      "outputs": [
        {
          "output_type": "stream",
          "name": "stdout",
          "text": [
            "Looking in indexes: https://pypi.org/simple, https://us-python.pkg.dev/colab-wheels/public/simple/\n",
            "Collecting treetaggerwrapper\n",
            "  Downloading treetaggerwrapper-2.3.tar.gz (43 kB)\n",
            "\u001b[2K     \u001b[90m━━━━━━━━━━━━━━━━━━━━━━━━━━━━━━━━━━━━━━━━\u001b[0m \u001b[32m43.8/43.8 kB\u001b[0m \u001b[31m4.4 MB/s\u001b[0m eta \u001b[36m0:00:00\u001b[0m\n",
            "\u001b[?25h  Preparing metadata (setup.py) ... \u001b[?25l\u001b[?25hdone\n",
            "Building wheels for collected packages: treetaggerwrapper\n",
            "  Building wheel for treetaggerwrapper (setup.py) ... \u001b[?25l\u001b[?25hdone\n",
            "  Created wheel for treetaggerwrapper: filename=treetaggerwrapper-2.3-py3-none-any.whl size=40759 sha256=ad84fc6df45bf9c215abfc7845dbccffd08b4e498a5269e903382888feb5906c\n",
            "  Stored in directory: /root/.cache/pip/wheels/ea/d5/4b/a29ceaa48c687208c69a791394c02c8e432971a98d8e5fc9ca\n",
            "Successfully built treetaggerwrapper\n",
            "Installing collected packages: treetaggerwrapper\n",
            "Successfully installed treetaggerwrapper-2.3\n"
          ]
        }
      ]
    },
    {
      "cell_type": "code",
      "source": [
        "pip list -v "
      ],
      "metadata": {
        "id": "KDCUCS5zp1DT"
      },
      "execution_count": null,
      "outputs": []
    },
    {
      "cell_type": "code",
      "source": [
        "\n",
        "import pandas as pd\n",
        "import treetaggerwrapper \n",
        " \n",
        "#t_tagger = tt.TreeTagger(TAGLANG ='en', TAGDIR ='/usr/local/lib/python3.10/dist-packages/treetaggerwrapper/TreeTagger')\n",
        "\n",
        " \n",
        "pos_tags = t_tagger.tag_text(\"the bats saw the cats with best stripes hanging upside down by their feet\")\n",
        " \n",
        "original = []\n",
        "lemmas = []\n",
        "tags = []\n",
        "for t in pos_tags:\n",
        "    original.append(t.split('\\t')[0])\n",
        "    tags.append(t.split('\\t')[1])\n",
        "    lemmas.append(t.split('\\t')[-1])\n",
        " \n",
        "Results = pd.DataFrame({'Original': original, 'Lemma': lemmas, 'Tags': tags})\n",
        "print(Results)"
      ],
      "metadata": {
        "colab": {
          "base_uri": "https://localhost:8080/",
          "height": 373
        },
        "id": "FxY-Wwnio0di",
        "outputId": "452c19cf-e1e0-4f86-da53-adee1d33141f"
      },
      "execution_count": 12,
      "outputs": [
        {
          "output_type": "stream",
          "name": "stderr",
          "text": [
            "/usr/local/lib/python3.10/dist-packages/treetaggerwrapper.py:739: FutureWarning: Possible nested set at position 8\n",
            "  punct2find_re = re.compile(\"([^ ])([[\" + ALONEMARKS + \"])\",\n",
            "/usr/local/lib/python3.10/dist-packages/treetaggerwrapper.py:2043: FutureWarning: Possible nested set at position 152\n",
            "  DnsHostMatch_re = re.compile(\"(\" + DnsHost_expression + \")\",\n",
            "/usr/local/lib/python3.10/dist-packages/treetaggerwrapper.py:2067: FutureWarning: Possible nested set at position 409\n",
            "  UrlMatch_re = re.compile(UrlMatch_expression, re.VERBOSE | re.IGNORECASE)\n",
            "/usr/local/lib/python3.10/dist-packages/treetaggerwrapper.py:2079: FutureWarning: Possible nested set at position 192\n",
            "  EmailMatch_re = re.compile(EmailMatch_expression, re.VERBOSE | re.IGNORECASE)\n"
          ]
        },
        {
          "output_type": "error",
          "ename": "NameError",
          "evalue": "ignored",
          "traceback": [
            "\u001b[0;31m---------------------------------------------------------------------------\u001b[0m",
            "\u001b[0;31mNameError\u001b[0m                                 Traceback (most recent call last)",
            "\u001b[0;32m<ipython-input-12-6b325727437c>\u001b[0m in \u001b[0;36m<cell line: 7>\u001b[0;34m()\u001b[0m\n\u001b[1;32m      5\u001b[0m \u001b[0;34m\u001b[0m\u001b[0m\n\u001b[1;32m      6\u001b[0m \u001b[0;34m\u001b[0m\u001b[0m\n\u001b[0;32m----> 7\u001b[0;31m \u001b[0mpos_tags\u001b[0m \u001b[0;34m=\u001b[0m \u001b[0mt_tagger\u001b[0m\u001b[0;34m.\u001b[0m\u001b[0mtag_text\u001b[0m\u001b[0;34m(\u001b[0m\u001b[0;34m\"the bats saw the cats with best stripes hanging upside down by their feet\"\u001b[0m\u001b[0;34m)\u001b[0m\u001b[0;34m\u001b[0m\u001b[0;34m\u001b[0m\u001b[0m\n\u001b[0m\u001b[1;32m      8\u001b[0m \u001b[0;34m\u001b[0m\u001b[0m\n\u001b[1;32m      9\u001b[0m \u001b[0moriginal\u001b[0m \u001b[0;34m=\u001b[0m \u001b[0;34m[\u001b[0m\u001b[0;34m]\u001b[0m\u001b[0;34m\u001b[0m\u001b[0;34m\u001b[0m\u001b[0m\n",
            "\u001b[0;31mNameError\u001b[0m: name 't_tagger' is not defined"
          ]
        }
      ]
    },
    {
      "cell_type": "markdown",
      "source": [
        "7. Pattern \n",
        "\n",
        "Pattern is a Python package commonly used for web mining, natural language processing, machine learning, and network analysis. It has many useful NLP capabilities. It also contains a special feature which we will be discussing below. "
      ],
      "metadata": {
        "id": "swyyr9ojrCxL"
      }
    },
    {
      "cell_type": "code",
      "source": [
        "pip install pattern"
      ],
      "metadata": {
        "colab": {
          "base_uri": "https://localhost:8080/"
        },
        "id": "aFZjT5TzrBDM",
        "outputId": "addc0c2f-cec7-465e-df7c-14c1edde5d91"
      },
      "execution_count": 16,
      "outputs": [
        {
          "output_type": "stream",
          "name": "stdout",
          "text": [
            "Looking in indexes: https://pypi.org/simple, https://us-python.pkg.dev/colab-wheels/public/simple/\n",
            "Collecting pattern\n",
            "  Using cached Pattern-3.6-py3-none-any.whl\n",
            "Requirement already satisfied: future in /usr/local/lib/python3.10/dist-packages (from pattern) (0.18.3)\n",
            "Collecting backports.csv (from pattern)\n",
            "  Using cached backports.csv-1.0.7-py2.py3-none-any.whl (12 kB)\n",
            "Collecting mysqlclient (from pattern)\n",
            "  Using cached mysqlclient-2.1.1-cp310-cp310-linux_x86_64.whl\n",
            "Requirement already satisfied: beautifulsoup4 in /usr/local/lib/python3.10/dist-packages (from pattern) (4.11.2)\n",
            "Requirement already satisfied: lxml in /usr/local/lib/python3.10/dist-packages (from pattern) (4.9.2)\n",
            "Collecting feedparser (from pattern)\n",
            "  Using cached feedparser-6.0.10-py3-none-any.whl (81 kB)\n",
            "Collecting pdfminer.six (from pattern)\n",
            "  Using cached pdfminer.six-20221105-py3-none-any.whl (5.6 MB)\n",
            "Requirement already satisfied: numpy in /usr/local/lib/python3.10/dist-packages (from pattern) (1.22.4)\n",
            "Requirement already satisfied: scipy in /usr/local/lib/python3.10/dist-packages (from pattern) (1.10.1)\n",
            "Requirement already satisfied: nltk in /usr/local/lib/python3.10/dist-packages (from pattern) (3.8.1)\n",
            "Collecting python-docx (from pattern)\n",
            "  Using cached python_docx-0.8.11-py3-none-any.whl\n",
            "Collecting cherrypy (from pattern)\n",
            "  Using cached CherryPy-18.8.0-py2.py3-none-any.whl (348 kB)\n",
            "Requirement already satisfied: requests in /usr/local/lib/python3.10/dist-packages (from pattern) (2.27.1)\n",
            "Requirement already satisfied: soupsieve>1.2 in /usr/local/lib/python3.10/dist-packages (from beautifulsoup4->pattern) (2.4.1)\n",
            "Collecting cheroot>=8.2.1 (from cherrypy->pattern)\n",
            "  Using cached cheroot-10.0.0-py3-none-any.whl (101 kB)\n",
            "Collecting portend>=2.1.1 (from cherrypy->pattern)\n",
            "  Using cached portend-3.1.0-py3-none-any.whl (5.3 kB)\n",
            "Requirement already satisfied: more-itertools in /usr/local/lib/python3.10/dist-packages (from cherrypy->pattern) (9.1.0)\n",
            "Collecting zc.lockfile (from cherrypy->pattern)\n",
            "  Using cached zc.lockfile-3.0.post1-py3-none-any.whl (9.8 kB)\n",
            "Collecting jaraco.collections (from cherrypy->pattern)\n",
            "  Using cached jaraco.collections-4.1.0-py3-none-any.whl (11 kB)\n",
            "Collecting sgmllib3k (from feedparser->pattern)\n",
            "  Using cached sgmllib3k-1.0.0.tar.gz (5.8 kB)\n",
            "  Preparing metadata (setup.py) ... \u001b[?25l\u001b[?25hdone\n",
            "Requirement already satisfied: click in /usr/local/lib/python3.10/dist-packages (from nltk->pattern) (8.1.3)\n",
            "Requirement already satisfied: joblib in /usr/local/lib/python3.10/dist-packages (from nltk->pattern) (1.2.0)\n",
            "Requirement already satisfied: regex>=2021.8.3 in /usr/local/lib/python3.10/dist-packages (from nltk->pattern) (2022.10.31)\n",
            "Requirement already satisfied: tqdm in /usr/local/lib/python3.10/dist-packages (from nltk->pattern) (4.65.0)\n",
            "Requirement already satisfied: charset-normalizer>=2.0.0 in /usr/local/lib/python3.10/dist-packages (from pdfminer.six->pattern) (2.0.12)\n",
            "Requirement already satisfied: cryptography>=36.0.0 in /usr/local/lib/python3.10/dist-packages (from pdfminer.six->pattern) (40.0.2)\n",
            "Requirement already satisfied: urllib3<1.27,>=1.21.1 in /usr/local/lib/python3.10/dist-packages (from requests->pattern) (1.26.15)\n",
            "Requirement already satisfied: certifi>=2017.4.17 in /usr/local/lib/python3.10/dist-packages (from requests->pattern) (2022.12.7)\n",
            "Requirement already satisfied: idna<4,>=2.5 in /usr/local/lib/python3.10/dist-packages (from requests->pattern) (3.4)\n",
            "Collecting jaraco.functools (from cheroot>=8.2.1->cherrypy->pattern)\n",
            "  Using cached jaraco.functools-3.6.0-py3-none-any.whl (7.9 kB)\n",
            "Requirement already satisfied: cffi>=1.12 in /usr/local/lib/python3.10/dist-packages (from cryptography>=36.0.0->pdfminer.six->pattern) (1.15.1)\n",
            "Collecting tempora>=1.8 (from portend>=2.1.1->cherrypy->pattern)\n",
            "  Using cached tempora-5.2.2-py3-none-any.whl (13 kB)\n",
            "Collecting jaraco.text (from jaraco.collections->cherrypy->pattern)\n",
            "  Using cached jaraco.text-3.11.1-py3-none-any.whl (11 kB)\n",
            "Requirement already satisfied: setuptools in /usr/local/lib/python3.10/dist-packages (from zc.lockfile->cherrypy->pattern) (67.7.2)\n",
            "Requirement already satisfied: pycparser in /usr/local/lib/python3.10/dist-packages (from cffi>=1.12->cryptography>=36.0.0->pdfminer.six->pattern) (2.21)\n",
            "Requirement already satisfied: pytz in /usr/local/lib/python3.10/dist-packages (from tempora>=1.8->portend>=2.1.1->cherrypy->pattern) (2022.7.1)\n",
            "Collecting jaraco.context>=4.1 (from jaraco.text->jaraco.collections->cherrypy->pattern)\n",
            "  Using cached jaraco.context-4.3.0-py3-none-any.whl (5.3 kB)\n",
            "Collecting autocommand (from jaraco.text->jaraco.collections->cherrypy->pattern)\n",
            "  Using cached autocommand-2.2.2-py3-none-any.whl (19 kB)\n",
            "Requirement already satisfied: inflect in /usr/local/lib/python3.10/dist-packages (from jaraco.text->jaraco.collections->cherrypy->pattern) (6.0.4)\n",
            "Requirement already satisfied: pydantic>=1.9.1 in /usr/local/lib/python3.10/dist-packages (from inflect->jaraco.text->jaraco.collections->cherrypy->pattern) (1.10.7)\n",
            "Requirement already satisfied: typing-extensions>=4.2.0 in /usr/local/lib/python3.10/dist-packages (from pydantic>=1.9.1->inflect->jaraco.text->jaraco.collections->cherrypy->pattern) (4.5.0)\n",
            "Building wheels for collected packages: sgmllib3k\n",
            "  Building wheel for sgmllib3k (setup.py) ... \u001b[?25l\u001b[?25hdone\n",
            "  Created wheel for sgmllib3k: filename=sgmllib3k-1.0.0-py3-none-any.whl size=6046 sha256=c6da2b238175fd8d802be0fcb05ee5f5284363e449dfa73b601c699bb73fc8b9\n",
            "  Stored in directory: /root/.cache/pip/wheels/f0/69/93/a47e9d621be168e9e33c7ce60524393c0b92ae83cf6c6e89c5\n",
            "Successfully built sgmllib3k\n",
            "Installing collected packages: sgmllib3k, backports.csv, zc.lockfile, python-docx, mysqlclient, jaraco.functools, jaraco.context, feedparser, autocommand, tempora, cheroot, portend, pdfminer.six, jaraco.text, jaraco.collections, cherrypy, pattern\n",
            "Successfully installed autocommand-2.2.2 backports.csv-1.0.7 cheroot-10.0.0 cherrypy-18.8.0 feedparser-6.0.10 jaraco.collections-4.1.0 jaraco.context-4.3.0 jaraco.functools-3.6.0 jaraco.text-3.11.1 mysqlclient-2.1.1 pattern-3.6 pdfminer.six-20221105 portend-3.1.0 python-docx-0.8.11 sgmllib3k-1.0.0 tempora-5.2.2 zc.lockfile-3.0.post1\n"
          ]
        }
      ]
    },
    {
      "cell_type": "code",
      "source": [
        "# PATTERN LEMMATIZER\n",
        "import pattern\n",
        "from pattern.en import lemma, lexeme\n",
        "from pattern.en import parse\n",
        " \n",
        "sentence = \"the bats saw the cats with best stripes hanging upside down by their feet\"\n",
        " \n",
        "lemmatized_sentence = \" \".join([lemma(word) for word in sentence.split()])\n",
        " \n",
        "print(lemmatized_sentence)\n",
        "#> the bat see the cat with best stripe hang upside down by their feet\n",
        " \n",
        "# Special Feature : to get all possible lemmas for each word in the sentence\n",
        "all_lemmas_for_each_word = [lexeme(wd) for wd in sentence.split()]\n",
        "print(all_lemmas_for_each_word)"
      ],
      "metadata": {
        "colab": {
          "base_uri": "https://localhost:8080/"
        },
        "id": "yDzL3yvmrL8_",
        "outputId": "32c236e9-0a3a-46a4-d8ab-6a01ca3161d8"
      },
      "execution_count": 18,
      "outputs": [
        {
          "output_type": "stream",
          "name": "stdout",
          "text": [
            "the bat see the cat with best stripe hang upside down by their feet\n",
            "[['the', 'thes', 'thing', 'thed'], ['bat', 'bats', 'batting', 'batted'], ['see', 'sees', 'seeing', 'saw', 'seen'], ['the', 'thes', 'thing', 'thed'], ['cat', 'cats', 'catting', 'catted'], ['with', 'withs', 'withing', 'withed'], ['best', 'bests', 'besting', 'bested'], ['stripe', 'stripes', 'striping', 'striped'], ['hang', 'hangs', 'hanging', 'hung'], ['upside', 'upsides', 'upsiding', 'upsided'], ['down', 'downs', 'downing', 'downed'], ['by', 'bies', 'bying', 'bied'], ['their', 'theirs', 'theiring', 'theired'], ['feet', 'feets', 'feeting', 'feeted']]\n"
          ]
        }
      ]
    },
    {
      "cell_type": "markdown",
      "source": [
        "8. Gensim \n",
        "\n",
        "Gensim is designed to handle large text collections using data streaming. Its lemmatization facilities are based on the pattern package we installed above.  \n",
        "\n",
        "* gensim.utils.lemmatize() function can be used for performing Lemmatization. This method comes under the utils module in python.\n",
        "* We can use this lemmatizer from pattern to extract UTF8-encoded tokens in their base form=lemma.\n",
        "* Only considers nouns, verbs, adjectives, and adverbs by default (all other lemmas are discarded).\n",
        "* For example\n",
        "\n",
        "Word          --->  Lemmatized Word \n",
        "\n",
        "are/is/being  --->  be\n",
        "\n",
        "saw           --->  see"
      ],
      "metadata": {
        "id": "FExHPqU6rOpL"
      }
    },
    {
      "cell_type": "code",
      "source": [
        "pip install gensim"
      ],
      "metadata": {
        "id": "QRd72M47rOL_"
      },
      "execution_count": null,
      "outputs": []
    },
    {
      "cell_type": "code",
      "source": [
        "from gensim.utils import lemmatize\n",
        " \n",
        "sentence = \"the bats saw the cats with best stripes hanging upside down by their feet\"\n",
        " \n",
        "lemmatized_sentence = [word.decode('utf-8').split('.')[0] for word in lemmatize(sentence)]\n",
        " \n",
        "print(lemmatized_sentence)"
      ],
      "metadata": {
        "id": "7ffFevYArgF-"
      },
      "execution_count": null,
      "outputs": []
    },
    {
      "cell_type": "code",
      "source": [
        "pip install gensim==3.8.0"
      ],
      "metadata": {
        "id": "D-99r3fcr9WF"
      },
      "execution_count": null,
      "outputs": []
    },
    {
      "cell_type": "code",
      "source": [
        "from gensim.utils import lemmatize\n",
        " \n",
        "sentence = \"the bats saw the cats with best stripes hanging upside down by their feet\"\n",
        " \n",
        "lemmatized_sentence = [word.decode('utf-8').split('.')[0] for word in lemmatize(sentence)]\n",
        " \n",
        "print(lemmatized_sentence)"
      ],
      "metadata": {
        "id": "Tt-N5BSlsqKv"
      },
      "execution_count": null,
      "outputs": []
    },
    {
      "cell_type": "markdown",
      "source": [
        "9. Stanford CoreNLP \n",
        "\n",
        "CoreNLP enables users to derive linguistic annotations for text, including token and sentence boundaries, parts of speech, named entities, numeric and time values, dependency and constituency parses, sentiment, quote attributions, and relations.   \n",
        "\n",
        "* CoreNLP is your one stop shop for natural language processing in Java!\n",
        "* CoreNLP currently supports 6 languages, including Arabic, Chinese, English, French, German, and Spanish.\n"
      ],
      "metadata": {
        "id": "Hyc4T1m9sovX"
      }
    },
    {
      "cell_type": "code",
      "source": [
        "pip install stanfordnlp"
      ],
      "metadata": {
        "id": "rbKZGWCQtMtE"
      },
      "execution_count": null,
      "outputs": []
    },
    {
      "cell_type": "code",
      "source": [
        "import stanfordnlp\n",
        "stanfordnlp.download(\"es\")\n",
        "nlp = stanfordnlp.Pipeline(processors='tokenize,mwt,pos,lemma') \n",
        "\n",
        " \n",
        "# Define properties needed to get lemma\n",
        "props = {'annotators': 'pos, lemma', 'pipelineLanguage': 'en', 'outputFormat': 'json'}\n",
        " \n",
        " \n",
        "sentence = \"the bats saw the cats with best stripes hanging upside down by their feet\"\n",
        "parsed_str = nlp.annotate(sentence, properties = props)\n",
        "print(parsed_str)"
      ],
      "metadata": {
        "id": "y3nxsZUYtRml"
      },
      "execution_count": null,
      "outputs": []
    }
  ]
}